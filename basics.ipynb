{
 "cells": [
  {
   "cell_type": "code",
   "execution_count": 9,
   "metadata": {},
   "outputs": [
    {
     "data": {
      "text/plain": "<cirq.contrib.svg.svg.SVGCircuit at 0x7fb50dc3aad0>",
      "image/svg+xml": "<svg xmlns=\"http://www.w3.org/2000/svg\" width=\"227.108125\" height=\"100.0\"><line x1=\"32.246796875\" x2=\"197.108125\" y1=\"25.0\" y2=\"25.0\" stroke=\"#1967d2\" stroke-width=\"1\" /><line x1=\"32.246796875\" x2=\"197.108125\" y1=\"75.0\" y2=\"75.0\" stroke=\"#1967d2\" stroke-width=\"1\" /><line x1=\"157.108125\" x2=\"157.108125\" y1=\"25.0\" y2=\"75.0\" stroke=\"black\" stroke-width=\"3\" /><rect x=\"10.0\" y=\"5.0\" width=\"44.49359375\" height=\"40\" stroke=\"black\" fill=\"white\" stroke-width=\"0\" /><text x=\"32.246796875\" y=\"25.0\" dominant-baseline=\"middle\" text-anchor=\"middle\" font-size=\"14px\" font-family=\"Arial\">(0, 0): </text><rect x=\"10.0\" y=\"55.0\" width=\"44.49359375\" height=\"40\" stroke=\"black\" fill=\"white\" stroke-width=\"0\" /><text x=\"32.246796875\" y=\"75.0\" dominant-baseline=\"middle\" text-anchor=\"middle\" font-size=\"14px\" font-family=\"Arial\">(0, 1): </text><rect x=\"74.49359375\" y=\"5.0\" width=\"42.61453125\" height=\"40\" stroke=\"black\" fill=\"white\" stroke-width=\"1\" /><text x=\"95.800859375\" y=\"25.0\" dominant-baseline=\"middle\" text-anchor=\"middle\" font-size=\"14px\" font-family=\"Arial\">Rx(a)</text><rect x=\"74.49359375\" y=\"55.0\" width=\"42.61453125\" height=\"40\" stroke=\"black\" fill=\"white\" stroke-width=\"1\" /><text x=\"95.800859375\" y=\"75.0\" dominant-baseline=\"middle\" text-anchor=\"middle\" font-size=\"14px\" font-family=\"Arial\">Ry(b)</text><circle cx=\"157.108125\" cy=\"25.0\" r=\"10.0\" /><rect x=\"137.108125\" y=\"55.0\" width=\"40\" height=\"40\" stroke=\"black\" fill=\"white\" stroke-width=\"1\" /><text x=\"157.108125\" y=\"75.0\" dominant-baseline=\"middle\" text-anchor=\"middle\" font-size=\"18px\" font-family=\"Arial\">X</text></svg>"
     },
     "execution_count": 9,
     "metadata": {},
     "output_type": "execute_result"
    }
   ],
   "source": [
    "import tensorflow as tf\n",
    "import tensorflow_quantum as tfq\n",
    "\n",
    "import cirq\n",
    "import sympy\n",
    "import numpy as np\n",
    "\n",
    "# visualization tools\n",
    "%matplotlib inline\n",
    "import matplotlib.pyplot as plt\n",
    "from cirq.contrib.svg import SVGCircuit\n",
    "\n",
    "a, b = sympy.symbols('a b')\n",
    "\n",
    "# Create two qubits\n",
    "q0, q1 = cirq.GridQubit.rect(1, 2)\n",
    "\n",
    "# Create a circuit on these qubits using the parameters you created above.\n",
    "circuit = cirq.Circuit(\n",
    "    cirq.rx(a).on(q0),\n",
    "    cirq.ry(b).on(q1),\n",
    "    cirq.CNOT(control=q0, target=q1))\n",
    "\n",
    "SVGCircuit(circuit)"
   ]
  },
  {
   "cell_type": "code",
   "execution_count": 10,
   "metadata": {},
   "outputs": [
    {
     "name": "stdout",
     "output_type": "stream",
     "text": [
      "0: ───H───@───────@───────@───────@───────@───────@───────@───────@───X───@───────@───────@───────@───────@───────@───────@───────@───\n",
      "          │       │       │       │       │       │       │       │       │       │       │       │       │       │       │       │\n",
      "1: ───H───@───────@───────@───────@───X───@───────@───────@───────@───X───@───────@───────@───────@───X───@───────@───────@───────@───\n",
      "          │       │       │       │       │       │       │       │       │       │       │       │       │       │       │       │\n",
      "2: ───H───@───────@───X───@───────@───X───@───────@───X───@───────@───X───@───────@───X───@───────@───X───@───────@───X───@───────@───\n",
      "          │       │       │       │       │       │       │       │       │       │       │       │       │       │       │       │\n",
      "3: ───H───@───X───@───X───@───X───@───X───@───X───@───X───@───X───@───X───@───X───@───X───@───X───@───X───@───X───@───X───@───X───@───\n",
      "          │       │       │       │       │       │       │       │       │       │       │       │       │       │       │       │\n",
      "4: ───────X───────X───────X───────X───────X───────X───────X───────X───────X───────X───────X───────X───────X───────X───────X───────X───\n",
      "[0. 1. 0. 1. 0. 1. 0. 1. 0. 1. 0. 1. 0. 1. 0. 1. 0. 1. 0. 1. 0. 1. 0. 1.\n",
      " 0. 1. 0. 1. 0. 1. 0. 1.]\n",
      "0000 x (0,1)\n",
      "0001 x (0,1)\n",
      "0010 x (0,1)\n",
      "0011 x (0,1)\n",
      "0100 x (0,1)\n",
      "0101 x (0,1)\n",
      "0110 x (0,1)\n",
      "0111 x (0,1)\n",
      "1000 x (0,1)\n",
      "1001 x (0,1)\n",
      "1010 x (0,1)\n",
      "1011 x (0,1)\n",
      "1100 x (0,1)\n",
      "1101 x (0,1)\n",
      "1110 x (0,1)\n",
      "1111 x (0,1)\n"
     ]
    },
    {
     "name": "stderr",
     "output_type": "stream",
     "text": [
      "/Users/alimohsen/.conda/envs/CS229/lib/python3.7/site-packages/ipykernel_launcher.py:78: ComplexWarning: Casting complex values to real discards the imaginary part\n"
     ]
    },
    {
     "data": {
      "text/plain": "<cirq.contrib.svg.svg.SVGCircuit at 0x7fb509281c90>",
      "image/svg+xml": "<svg xmlns=\"http://www.w3.org/2000/svg\" width=\"2020.0\" height=\"250.0\"><line x1=\"30.0\" x2=\"1990.0\" y1=\"25.0\" y2=\"25.0\" stroke=\"#1967d2\" stroke-width=\"1\" /><line x1=\"30.0\" x2=\"1990.0\" y1=\"75.0\" y2=\"75.0\" stroke=\"#1967d2\" stroke-width=\"1\" /><line x1=\"30.0\" x2=\"1990.0\" y1=\"125.0\" y2=\"125.0\" stroke=\"#1967d2\" stroke-width=\"1\" /><line x1=\"30.0\" x2=\"1990.0\" y1=\"175.0\" y2=\"175.0\" stroke=\"#1967d2\" stroke-width=\"1\" /><line x1=\"30.0\" x2=\"1990.0\" y1=\"225.0\" y2=\"225.0\" stroke=\"#1967d2\" stroke-width=\"1\" /><line x1=\"150.0\" x2=\"150.0\" y1=\"25.0\" y2=\"225.0\" stroke=\"black\" stroke-width=\"3\" /><line x1=\"270.0\" x2=\"270.0\" y1=\"25.0\" y2=\"225.0\" stroke=\"black\" stroke-width=\"3\" /><line x1=\"390.0\" x2=\"390.0\" y1=\"25.0\" y2=\"225.0\" stroke=\"black\" stroke-width=\"3\" /><line x1=\"510.0\" x2=\"510.0\" y1=\"25.0\" y2=\"225.0\" stroke=\"black\" stroke-width=\"3\" /><line x1=\"630.0\" x2=\"630.0\" y1=\"25.0\" y2=\"225.0\" stroke=\"black\" stroke-width=\"3\" /><line x1=\"750.0\" x2=\"750.0\" y1=\"25.0\" y2=\"225.0\" stroke=\"black\" stroke-width=\"3\" /><line x1=\"870.0\" x2=\"870.0\" y1=\"25.0\" y2=\"225.0\" stroke=\"black\" stroke-width=\"3\" /><line x1=\"990.0\" x2=\"990.0\" y1=\"25.0\" y2=\"225.0\" stroke=\"black\" stroke-width=\"3\" /><line x1=\"1110.0\" x2=\"1110.0\" y1=\"25.0\" y2=\"225.0\" stroke=\"black\" stroke-width=\"3\" /><line x1=\"1230.0\" x2=\"1230.0\" y1=\"25.0\" y2=\"225.0\" stroke=\"black\" stroke-width=\"3\" /><line x1=\"1350.0\" x2=\"1350.0\" y1=\"25.0\" y2=\"225.0\" stroke=\"black\" stroke-width=\"3\" /><line x1=\"1470.0\" x2=\"1470.0\" y1=\"25.0\" y2=\"225.0\" stroke=\"black\" stroke-width=\"3\" /><line x1=\"1590.0\" x2=\"1590.0\" y1=\"25.0\" y2=\"225.0\" stroke=\"black\" stroke-width=\"3\" /><line x1=\"1710.0\" x2=\"1710.0\" y1=\"25.0\" y2=\"225.0\" stroke=\"black\" stroke-width=\"3\" /><line x1=\"1830.0\" x2=\"1830.0\" y1=\"25.0\" y2=\"225.0\" stroke=\"black\" stroke-width=\"3\" /><line x1=\"1950.0\" x2=\"1950.0\" y1=\"25.0\" y2=\"225.0\" stroke=\"black\" stroke-width=\"3\" /><rect x=\"10.0\" y=\"5.0\" width=\"40\" height=\"40\" stroke=\"black\" fill=\"white\" stroke-width=\"0\" /><text x=\"30.0\" y=\"25.0\" dominant-baseline=\"middle\" text-anchor=\"middle\" font-size=\"14px\" font-family=\"Arial\">0: </text><rect x=\"10.0\" y=\"55.0\" width=\"40\" height=\"40\" stroke=\"black\" fill=\"white\" stroke-width=\"0\" /><text x=\"30.0\" y=\"75.0\" dominant-baseline=\"middle\" text-anchor=\"middle\" font-size=\"14px\" font-family=\"Arial\">1: </text><rect x=\"10.0\" y=\"105.0\" width=\"40\" height=\"40\" stroke=\"black\" fill=\"white\" stroke-width=\"0\" /><text x=\"30.0\" y=\"125.0\" dominant-baseline=\"middle\" text-anchor=\"middle\" font-size=\"14px\" font-family=\"Arial\">2: </text><rect x=\"10.0\" y=\"155.0\" width=\"40\" height=\"40\" stroke=\"black\" fill=\"white\" stroke-width=\"0\" /><text x=\"30.0\" y=\"175.0\" dominant-baseline=\"middle\" text-anchor=\"middle\" font-size=\"14px\" font-family=\"Arial\">3: </text><rect x=\"10.0\" y=\"205.0\" width=\"40\" height=\"40\" stroke=\"black\" fill=\"white\" stroke-width=\"0\" /><text x=\"30.0\" y=\"225.0\" dominant-baseline=\"middle\" text-anchor=\"middle\" font-size=\"14px\" font-family=\"Arial\">4: </text><rect x=\"70.0\" y=\"5.0\" width=\"40\" height=\"40\" stroke=\"black\" fill=\"white\" stroke-width=\"1\" /><text x=\"90.0\" y=\"25.0\" dominant-baseline=\"middle\" text-anchor=\"middle\" font-size=\"18px\" font-family=\"Arial\">H</text><rect x=\"70.0\" y=\"55.0\" width=\"40\" height=\"40\" stroke=\"black\" fill=\"white\" stroke-width=\"1\" /><text x=\"90.0\" y=\"75.0\" dominant-baseline=\"middle\" text-anchor=\"middle\" font-size=\"18px\" font-family=\"Arial\">H</text><rect x=\"70.0\" y=\"105.0\" width=\"40\" height=\"40\" stroke=\"black\" fill=\"white\" stroke-width=\"1\" /><text x=\"90.0\" y=\"125.0\" dominant-baseline=\"middle\" text-anchor=\"middle\" font-size=\"18px\" font-family=\"Arial\">H</text><rect x=\"70.0\" y=\"155.0\" width=\"40\" height=\"40\" stroke=\"black\" fill=\"white\" stroke-width=\"1\" /><text x=\"90.0\" y=\"175.0\" dominant-baseline=\"middle\" text-anchor=\"middle\" font-size=\"18px\" font-family=\"Arial\">H</text><circle cx=\"150.0\" cy=\"25.0\" r=\"10.0\" /><circle cx=\"150.0\" cy=\"75.0\" r=\"10.0\" /><circle cx=\"150.0\" cy=\"125.0\" r=\"10.0\" /><circle cx=\"150.0\" cy=\"175.0\" r=\"10.0\" /><rect x=\"130.0\" y=\"205.0\" width=\"40\" height=\"40\" stroke=\"black\" fill=\"white\" stroke-width=\"1\" /><text x=\"150.0\" y=\"225.0\" dominant-baseline=\"middle\" text-anchor=\"middle\" font-size=\"18px\" font-family=\"Arial\">X</text><rect x=\"190.0\" y=\"155.0\" width=\"40\" height=\"40\" stroke=\"black\" fill=\"white\" stroke-width=\"1\" /><text x=\"210.0\" y=\"175.0\" dominant-baseline=\"middle\" text-anchor=\"middle\" font-size=\"18px\" font-family=\"Arial\">X</text><circle cx=\"270.0\" cy=\"25.0\" r=\"10.0\" /><circle cx=\"270.0\" cy=\"75.0\" r=\"10.0\" /><circle cx=\"270.0\" cy=\"125.0\" r=\"10.0\" /><circle cx=\"270.0\" cy=\"175.0\" r=\"10.0\" /><rect x=\"250.0\" y=\"205.0\" width=\"40\" height=\"40\" stroke=\"black\" fill=\"white\" stroke-width=\"1\" /><text x=\"270.0\" y=\"225.0\" dominant-baseline=\"middle\" text-anchor=\"middle\" font-size=\"18px\" font-family=\"Arial\">X</text><rect x=\"310.0\" y=\"105.0\" width=\"40\" height=\"40\" stroke=\"black\" fill=\"white\" stroke-width=\"1\" /><text x=\"330.0\" y=\"125.0\" dominant-baseline=\"middle\" text-anchor=\"middle\" font-size=\"18px\" font-family=\"Arial\">X</text><rect x=\"310.0\" y=\"155.0\" width=\"40\" height=\"40\" stroke=\"black\" fill=\"white\" stroke-width=\"1\" /><text x=\"330.0\" y=\"175.0\" dominant-baseline=\"middle\" text-anchor=\"middle\" font-size=\"18px\" font-family=\"Arial\">X</text><circle cx=\"390.0\" cy=\"25.0\" r=\"10.0\" /><circle cx=\"390.0\" cy=\"75.0\" r=\"10.0\" /><circle cx=\"390.0\" cy=\"125.0\" r=\"10.0\" /><circle cx=\"390.0\" cy=\"175.0\" r=\"10.0\" /><rect x=\"370.0\" y=\"205.0\" width=\"40\" height=\"40\" stroke=\"black\" fill=\"white\" stroke-width=\"1\" /><text x=\"390.0\" y=\"225.0\" dominant-baseline=\"middle\" text-anchor=\"middle\" font-size=\"18px\" font-family=\"Arial\">X</text><rect x=\"430.0\" y=\"155.0\" width=\"40\" height=\"40\" stroke=\"black\" fill=\"white\" stroke-width=\"1\" /><text x=\"450.0\" y=\"175.0\" dominant-baseline=\"middle\" text-anchor=\"middle\" font-size=\"18px\" font-family=\"Arial\">X</text><circle cx=\"510.0\" cy=\"25.0\" r=\"10.0\" /><circle cx=\"510.0\" cy=\"75.0\" r=\"10.0\" /><circle cx=\"510.0\" cy=\"125.0\" r=\"10.0\" /><circle cx=\"510.0\" cy=\"175.0\" r=\"10.0\" /><rect x=\"490.0\" y=\"205.0\" width=\"40\" height=\"40\" stroke=\"black\" fill=\"white\" stroke-width=\"1\" /><text x=\"510.0\" y=\"225.0\" dominant-baseline=\"middle\" text-anchor=\"middle\" font-size=\"18px\" font-family=\"Arial\">X</text><rect x=\"550.0\" y=\"55.0\" width=\"40\" height=\"40\" stroke=\"black\" fill=\"white\" stroke-width=\"1\" /><text x=\"570.0\" y=\"75.0\" dominant-baseline=\"middle\" text-anchor=\"middle\" font-size=\"18px\" font-family=\"Arial\">X</text><rect x=\"550.0\" y=\"105.0\" width=\"40\" height=\"40\" stroke=\"black\" fill=\"white\" stroke-width=\"1\" /><text x=\"570.0\" y=\"125.0\" dominant-baseline=\"middle\" text-anchor=\"middle\" font-size=\"18px\" font-family=\"Arial\">X</text><rect x=\"550.0\" y=\"155.0\" width=\"40\" height=\"40\" stroke=\"black\" fill=\"white\" stroke-width=\"1\" /><text x=\"570.0\" y=\"175.0\" dominant-baseline=\"middle\" text-anchor=\"middle\" font-size=\"18px\" font-family=\"Arial\">X</text><circle cx=\"630.0\" cy=\"25.0\" r=\"10.0\" /><circle cx=\"630.0\" cy=\"75.0\" r=\"10.0\" /><circle cx=\"630.0\" cy=\"125.0\" r=\"10.0\" /><circle cx=\"630.0\" cy=\"175.0\" r=\"10.0\" /><rect x=\"610.0\" y=\"205.0\" width=\"40\" height=\"40\" stroke=\"black\" fill=\"white\" stroke-width=\"1\" /><text x=\"630.0\" y=\"225.0\" dominant-baseline=\"middle\" text-anchor=\"middle\" font-size=\"18px\" font-family=\"Arial\">X</text><rect x=\"670.0\" y=\"155.0\" width=\"40\" height=\"40\" stroke=\"black\" fill=\"white\" stroke-width=\"1\" /><text x=\"690.0\" y=\"175.0\" dominant-baseline=\"middle\" text-anchor=\"middle\" font-size=\"18px\" font-family=\"Arial\">X</text><circle cx=\"750.0\" cy=\"25.0\" r=\"10.0\" /><circle cx=\"750.0\" cy=\"75.0\" r=\"10.0\" /><circle cx=\"750.0\" cy=\"125.0\" r=\"10.0\" /><circle cx=\"750.0\" cy=\"175.0\" r=\"10.0\" /><rect x=\"730.0\" y=\"205.0\" width=\"40\" height=\"40\" stroke=\"black\" fill=\"white\" stroke-width=\"1\" /><text x=\"750.0\" y=\"225.0\" dominant-baseline=\"middle\" text-anchor=\"middle\" font-size=\"18px\" font-family=\"Arial\">X</text><rect x=\"790.0\" y=\"105.0\" width=\"40\" height=\"40\" stroke=\"black\" fill=\"white\" stroke-width=\"1\" /><text x=\"810.0\" y=\"125.0\" dominant-baseline=\"middle\" text-anchor=\"middle\" font-size=\"18px\" font-family=\"Arial\">X</text><rect x=\"790.0\" y=\"155.0\" width=\"40\" height=\"40\" stroke=\"black\" fill=\"white\" stroke-width=\"1\" /><text x=\"810.0\" y=\"175.0\" dominant-baseline=\"middle\" text-anchor=\"middle\" font-size=\"18px\" font-family=\"Arial\">X</text><circle cx=\"870.0\" cy=\"25.0\" r=\"10.0\" /><circle cx=\"870.0\" cy=\"75.0\" r=\"10.0\" /><circle cx=\"870.0\" cy=\"125.0\" r=\"10.0\" /><circle cx=\"870.0\" cy=\"175.0\" r=\"10.0\" /><rect x=\"850.0\" y=\"205.0\" width=\"40\" height=\"40\" stroke=\"black\" fill=\"white\" stroke-width=\"1\" /><text x=\"870.0\" y=\"225.0\" dominant-baseline=\"middle\" text-anchor=\"middle\" font-size=\"18px\" font-family=\"Arial\">X</text><rect x=\"910.0\" y=\"155.0\" width=\"40\" height=\"40\" stroke=\"black\" fill=\"white\" stroke-width=\"1\" /><text x=\"930.0\" y=\"175.0\" dominant-baseline=\"middle\" text-anchor=\"middle\" font-size=\"18px\" font-family=\"Arial\">X</text><circle cx=\"990.0\" cy=\"25.0\" r=\"10.0\" /><circle cx=\"990.0\" cy=\"75.0\" r=\"10.0\" /><circle cx=\"990.0\" cy=\"125.0\" r=\"10.0\" /><circle cx=\"990.0\" cy=\"175.0\" r=\"10.0\" /><rect x=\"970.0\" y=\"205.0\" width=\"40\" height=\"40\" stroke=\"black\" fill=\"white\" stroke-width=\"1\" /><text x=\"990.0\" y=\"225.0\" dominant-baseline=\"middle\" text-anchor=\"middle\" font-size=\"18px\" font-family=\"Arial\">X</text><rect x=\"1030.0\" y=\"5.0\" width=\"40\" height=\"40\" stroke=\"black\" fill=\"white\" stroke-width=\"1\" /><text x=\"1050.0\" y=\"25.0\" dominant-baseline=\"middle\" text-anchor=\"middle\" font-size=\"18px\" font-family=\"Arial\">X</text><rect x=\"1030.0\" y=\"55.0\" width=\"40\" height=\"40\" stroke=\"black\" fill=\"white\" stroke-width=\"1\" /><text x=\"1050.0\" y=\"75.0\" dominant-baseline=\"middle\" text-anchor=\"middle\" font-size=\"18px\" font-family=\"Arial\">X</text><rect x=\"1030.0\" y=\"105.0\" width=\"40\" height=\"40\" stroke=\"black\" fill=\"white\" stroke-width=\"1\" /><text x=\"1050.0\" y=\"125.0\" dominant-baseline=\"middle\" text-anchor=\"middle\" font-size=\"18px\" font-family=\"Arial\">X</text><rect x=\"1030.0\" y=\"155.0\" width=\"40\" height=\"40\" stroke=\"black\" fill=\"white\" stroke-width=\"1\" /><text x=\"1050.0\" y=\"175.0\" dominant-baseline=\"middle\" text-anchor=\"middle\" font-size=\"18px\" font-family=\"Arial\">X</text><circle cx=\"1110.0\" cy=\"25.0\" r=\"10.0\" /><circle cx=\"1110.0\" cy=\"75.0\" r=\"10.0\" /><circle cx=\"1110.0\" cy=\"125.0\" r=\"10.0\" /><circle cx=\"1110.0\" cy=\"175.0\" r=\"10.0\" /><rect x=\"1090.0\" y=\"205.0\" width=\"40\" height=\"40\" stroke=\"black\" fill=\"white\" stroke-width=\"1\" /><text x=\"1110.0\" y=\"225.0\" dominant-baseline=\"middle\" text-anchor=\"middle\" font-size=\"18px\" font-family=\"Arial\">X</text><rect x=\"1150.0\" y=\"155.0\" width=\"40\" height=\"40\" stroke=\"black\" fill=\"white\" stroke-width=\"1\" /><text x=\"1170.0\" y=\"175.0\" dominant-baseline=\"middle\" text-anchor=\"middle\" font-size=\"18px\" font-family=\"Arial\">X</text><circle cx=\"1230.0\" cy=\"25.0\" r=\"10.0\" /><circle cx=\"1230.0\" cy=\"75.0\" r=\"10.0\" /><circle cx=\"1230.0\" cy=\"125.0\" r=\"10.0\" /><circle cx=\"1230.0\" cy=\"175.0\" r=\"10.0\" /><rect x=\"1210.0\" y=\"205.0\" width=\"40\" height=\"40\" stroke=\"black\" fill=\"white\" stroke-width=\"1\" /><text x=\"1230.0\" y=\"225.0\" dominant-baseline=\"middle\" text-anchor=\"middle\" font-size=\"18px\" font-family=\"Arial\">X</text><rect x=\"1270.0\" y=\"105.0\" width=\"40\" height=\"40\" stroke=\"black\" fill=\"white\" stroke-width=\"1\" /><text x=\"1290.0\" y=\"125.0\" dominant-baseline=\"middle\" text-anchor=\"middle\" font-size=\"18px\" font-family=\"Arial\">X</text><rect x=\"1270.0\" y=\"155.0\" width=\"40\" height=\"40\" stroke=\"black\" fill=\"white\" stroke-width=\"1\" /><text x=\"1290.0\" y=\"175.0\" dominant-baseline=\"middle\" text-anchor=\"middle\" font-size=\"18px\" font-family=\"Arial\">X</text><circle cx=\"1350.0\" cy=\"25.0\" r=\"10.0\" /><circle cx=\"1350.0\" cy=\"75.0\" r=\"10.0\" /><circle cx=\"1350.0\" cy=\"125.0\" r=\"10.0\" /><circle cx=\"1350.0\" cy=\"175.0\" r=\"10.0\" /><rect x=\"1330.0\" y=\"205.0\" width=\"40\" height=\"40\" stroke=\"black\" fill=\"white\" stroke-width=\"1\" /><text x=\"1350.0\" y=\"225.0\" dominant-baseline=\"middle\" text-anchor=\"middle\" font-size=\"18px\" font-family=\"Arial\">X</text><rect x=\"1390.0\" y=\"155.0\" width=\"40\" height=\"40\" stroke=\"black\" fill=\"white\" stroke-width=\"1\" /><text x=\"1410.0\" y=\"175.0\" dominant-baseline=\"middle\" text-anchor=\"middle\" font-size=\"18px\" font-family=\"Arial\">X</text><circle cx=\"1470.0\" cy=\"25.0\" r=\"10.0\" /><circle cx=\"1470.0\" cy=\"75.0\" r=\"10.0\" /><circle cx=\"1470.0\" cy=\"125.0\" r=\"10.0\" /><circle cx=\"1470.0\" cy=\"175.0\" r=\"10.0\" /><rect x=\"1450.0\" y=\"205.0\" width=\"40\" height=\"40\" stroke=\"black\" fill=\"white\" stroke-width=\"1\" /><text x=\"1470.0\" y=\"225.0\" dominant-baseline=\"middle\" text-anchor=\"middle\" font-size=\"18px\" font-family=\"Arial\">X</text><rect x=\"1510.0\" y=\"55.0\" width=\"40\" height=\"40\" stroke=\"black\" fill=\"white\" stroke-width=\"1\" /><text x=\"1530.0\" y=\"75.0\" dominant-baseline=\"middle\" text-anchor=\"middle\" font-size=\"18px\" font-family=\"Arial\">X</text><rect x=\"1510.0\" y=\"105.0\" width=\"40\" height=\"40\" stroke=\"black\" fill=\"white\" stroke-width=\"1\" /><text x=\"1530.0\" y=\"125.0\" dominant-baseline=\"middle\" text-anchor=\"middle\" font-size=\"18px\" font-family=\"Arial\">X</text><rect x=\"1510.0\" y=\"155.0\" width=\"40\" height=\"40\" stroke=\"black\" fill=\"white\" stroke-width=\"1\" /><text x=\"1530.0\" y=\"175.0\" dominant-baseline=\"middle\" text-anchor=\"middle\" font-size=\"18px\" font-family=\"Arial\">X</text><circle cx=\"1590.0\" cy=\"25.0\" r=\"10.0\" /><circle cx=\"1590.0\" cy=\"75.0\" r=\"10.0\" /><circle cx=\"1590.0\" cy=\"125.0\" r=\"10.0\" /><circle cx=\"1590.0\" cy=\"175.0\" r=\"10.0\" /><rect x=\"1570.0\" y=\"205.0\" width=\"40\" height=\"40\" stroke=\"black\" fill=\"white\" stroke-width=\"1\" /><text x=\"1590.0\" y=\"225.0\" dominant-baseline=\"middle\" text-anchor=\"middle\" font-size=\"18px\" font-family=\"Arial\">X</text><rect x=\"1630.0\" y=\"155.0\" width=\"40\" height=\"40\" stroke=\"black\" fill=\"white\" stroke-width=\"1\" /><text x=\"1650.0\" y=\"175.0\" dominant-baseline=\"middle\" text-anchor=\"middle\" font-size=\"18px\" font-family=\"Arial\">X</text><circle cx=\"1710.0\" cy=\"25.0\" r=\"10.0\" /><circle cx=\"1710.0\" cy=\"75.0\" r=\"10.0\" /><circle cx=\"1710.0\" cy=\"125.0\" r=\"10.0\" /><circle cx=\"1710.0\" cy=\"175.0\" r=\"10.0\" /><rect x=\"1690.0\" y=\"205.0\" width=\"40\" height=\"40\" stroke=\"black\" fill=\"white\" stroke-width=\"1\" /><text x=\"1710.0\" y=\"225.0\" dominant-baseline=\"middle\" text-anchor=\"middle\" font-size=\"18px\" font-family=\"Arial\">X</text><rect x=\"1750.0\" y=\"105.0\" width=\"40\" height=\"40\" stroke=\"black\" fill=\"white\" stroke-width=\"1\" /><text x=\"1770.0\" y=\"125.0\" dominant-baseline=\"middle\" text-anchor=\"middle\" font-size=\"18px\" font-family=\"Arial\">X</text><rect x=\"1750.0\" y=\"155.0\" width=\"40\" height=\"40\" stroke=\"black\" fill=\"white\" stroke-width=\"1\" /><text x=\"1770.0\" y=\"175.0\" dominant-baseline=\"middle\" text-anchor=\"middle\" font-size=\"18px\" font-family=\"Arial\">X</text><circle cx=\"1830.0\" cy=\"25.0\" r=\"10.0\" /><circle cx=\"1830.0\" cy=\"75.0\" r=\"10.0\" /><circle cx=\"1830.0\" cy=\"125.0\" r=\"10.0\" /><circle cx=\"1830.0\" cy=\"175.0\" r=\"10.0\" /><rect x=\"1810.0\" y=\"205.0\" width=\"40\" height=\"40\" stroke=\"black\" fill=\"white\" stroke-width=\"1\" /><text x=\"1830.0\" y=\"225.0\" dominant-baseline=\"middle\" text-anchor=\"middle\" font-size=\"18px\" font-family=\"Arial\">X</text><rect x=\"1870.0\" y=\"155.0\" width=\"40\" height=\"40\" stroke=\"black\" fill=\"white\" stroke-width=\"1\" /><text x=\"1890.0\" y=\"175.0\" dominant-baseline=\"middle\" text-anchor=\"middle\" font-size=\"18px\" font-family=\"Arial\">X</text><circle cx=\"1950.0\" cy=\"25.0\" r=\"10.0\" /><circle cx=\"1950.0\" cy=\"75.0\" r=\"10.0\" /><circle cx=\"1950.0\" cy=\"125.0\" r=\"10.0\" /><circle cx=\"1950.0\" cy=\"175.0\" r=\"10.0\" /><rect x=\"1930.0\" y=\"205.0\" width=\"40\" height=\"40\" stroke=\"black\" fill=\"white\" stroke-width=\"1\" /><text x=\"1950.0\" y=\"225.0\" dominant-baseline=\"middle\" text-anchor=\"middle\" font-size=\"18px\" font-family=\"Arial\">X</text></svg>"
     },
     "execution_count": 10,
     "metadata": {},
     "output_type": "execute_result"
    }
   ],
   "source": [
    "from cirq import Simulator\n",
    "N_QUBITS = 4\n",
    "\n",
    "gate = cirq.X.controlled(N_QUBITS)\n",
    "\n",
    "def generate_circuit_from_image(qubits, image=np.zeros(2**N_QUBITS)):\n",
    "    for qubit in qubits[:-1]:\n",
    "        yield cirq.H(qubit)\n",
    "\n",
    "    (yield gate(*qubits)) if image[0] == 1 else None\n",
    "    yield cirq.X(qubits[3])\n",
    "\n",
    "    (yield gate(*qubits)) if image[1] == 1 else None\n",
    "    yield cirq.X(qubits[2])\n",
    "    yield cirq.X(qubits[3])\n",
    "\n",
    "    (yield gate(*qubits)) if image[2] == 1 else None\n",
    "    yield cirq.X(qubits[3])\n",
    "\n",
    "    (yield gate(*qubits)) if image[3] == 1 else None\n",
    "    yield cirq.X(qubits[1])\n",
    "    yield cirq.X(qubits[2])\n",
    "    yield cirq.X(qubits[3])\n",
    "\n",
    "    (yield gate(*qubits)) if image[4] == 1 else None\n",
    "    yield cirq.X(qubits[3])\n",
    "\n",
    "    (yield gate(*qubits)) if image[5] == 1 else None\n",
    "    yield cirq.X(qubits[2])\n",
    "    yield cirq.X(qubits[3])\n",
    "\n",
    "    (yield gate(*qubits)) if image[6] == 1 else None\n",
    "    yield cirq.X(qubits[3])\n",
    "\n",
    "    (yield gate(*qubits)) if image[7] == 1 else None\n",
    "    yield cirq.X(qubits[0])\n",
    "    yield cirq.X(qubits[1])\n",
    "    yield cirq.X(qubits[2])\n",
    "    yield cirq.X(qubits[3])\n",
    "\n",
    "    (yield gate(*qubits)) if image[8] == 1 else None\n",
    "    yield cirq.X(qubits[3])\n",
    "\n",
    "    (yield gate(*qubits)) if image[9] == 1 else None\n",
    "    yield cirq.X(qubits[2])\n",
    "    yield cirq.X(qubits[3])\n",
    "\n",
    "    (yield gate(*qubits)) if image[10] == 1 else None\n",
    "    yield cirq.X(qubits[3])\n",
    "\n",
    "    (yield gate(*qubits)) if image[11] == 1 else None\n",
    "    yield cirq.X(qubits[1])\n",
    "    yield cirq.X(qubits[2])\n",
    "    yield cirq.X(qubits[3])\n",
    "\n",
    "    (yield gate(*qubits)) if image[12] == 1 else None\n",
    "    yield cirq.X(qubits[3])\n",
    "\n",
    "    (yield gate(*qubits)) if image[13] == 1 else None\n",
    "    yield cirq.X(qubits[2])\n",
    "    yield cirq.X(qubits[3])\n",
    "\n",
    "    (yield gate(*qubits)) if image[14] == 1 else None\n",
    "    yield cirq.X(qubits[3])\n",
    "\n",
    "    (yield gate(*qubits)) if image[15] == 1 else None\n",
    "\n",
    "\n",
    "def circuit_from_image(image):\n",
    "    pass\n",
    "qubits = [cirq.LineQubit(i) for i in range(N_QUBITS+1)]\n",
    "circuit = cirq.Circuit()\n",
    "circuit.append(generate_circuit_from_image(qubits, np.array([1] * (2**N_QUBITS))))\n",
    "print(circuit)\n",
    "simulator = Simulator()\n",
    "result=simulator.simulate(circuit, qubit_order=qubits, initial_state=0)\n",
    "out_state = result.final_state_vector\n",
    "out_state_rep = 4*np.abs(np.around(out_state.astype(np.float),3))\n",
    "print(out_state_rep)\n",
    "for i in range(0, len(out_state_rep), 2):\n",
    "    print('{} x ({},{})'.format(format(i//2, '0{}b'.format(N_QUBITS)), int(out_state_rep[i]), int(out_state_rep[i + 1])))\n",
    "SVGCircuit(circuit)\n",
    "\n"
   ]
  },
  {
   "cell_type": "code",
   "execution_count": 2,
   "outputs": [
    {
     "data": {
      "text/plain": "<cirq.contrib.svg.svg.SVGCircuit at 0x7fb49f533bd0>",
      "image/svg+xml": "<svg xmlns=\"http://www.w3.org/2000/svg\" width=\"436.182890625\" height=\"300.0\"><line x1=\"35.5622265625\" x2=\"406.182890625\" y1=\"25.0\" y2=\"25.0\" stroke=\"#1967d2\" stroke-width=\"1\" /><line x1=\"35.5622265625\" x2=\"406.182890625\" y1=\"75.0\" y2=\"75.0\" stroke=\"#1967d2\" stroke-width=\"1\" /><line x1=\"35.5622265625\" x2=\"406.182890625\" y1=\"125.0\" y2=\"125.0\" stroke=\"#1967d2\" stroke-width=\"1\" /><line x1=\"35.5622265625\" x2=\"406.182890625\" y1=\"175.0\" y2=\"175.0\" stroke=\"#1967d2\" stroke-width=\"1\" /><line x1=\"35.5622265625\" x2=\"406.182890625\" y1=\"225.0\" y2=\"225.0\" stroke=\"#1967d2\" stroke-width=\"1\" /><line x1=\"35.5622265625\" x2=\"406.182890625\" y1=\"275.0\" y2=\"275.0\" stroke=\"#1967d2\" stroke-width=\"1\" /><line x1=\"111.9984765625\" x2=\"111.9984765625\" y1=\"25.0\" y2=\"275.0\" stroke=\"black\" stroke-width=\"3\" /><line x1=\"192.7960546875\" x2=\"192.7960546875\" y1=\"75.0\" y2=\"275.0\" stroke=\"black\" stroke-width=\"3\" /><line x1=\"273.55972656250003\" x2=\"273.55972656250003\" y1=\"125.0\" y2=\"275.0\" stroke=\"black\" stroke-width=\"3\" /><line x1=\"355.2913671875\" x2=\"355.2913671875\" y1=\"175.0\" y2=\"275.0\" stroke=\"black\" stroke-width=\"3\" /><rect x=\"10.0\" y=\"5.0\" width=\"51.124453125\" height=\"40\" stroke=\"black\" fill=\"white\" stroke-width=\"0\" /><text x=\"35.5622265625\" y=\"25.0\" dominant-baseline=\"middle\" text-anchor=\"middle\" font-size=\"14px\" font-family=\"Arial\">0: </text><rect x=\"10.0\" y=\"55.0\" width=\"51.124453125\" height=\"40\" stroke=\"black\" fill=\"white\" stroke-width=\"0\" /><text x=\"35.5622265625\" y=\"75.0\" dominant-baseline=\"middle\" text-anchor=\"middle\" font-size=\"14px\" font-family=\"Arial\">1: </text><rect x=\"10.0\" y=\"105.0\" width=\"51.124453125\" height=\"40\" stroke=\"black\" fill=\"white\" stroke-width=\"0\" /><text x=\"35.5622265625\" y=\"125.0\" dominant-baseline=\"middle\" text-anchor=\"middle\" font-size=\"14px\" font-family=\"Arial\">2: </text><rect x=\"10.0\" y=\"155.0\" width=\"51.124453125\" height=\"40\" stroke=\"black\" fill=\"white\" stroke-width=\"0\" /><text x=\"35.5622265625\" y=\"175.0\" dominant-baseline=\"middle\" text-anchor=\"middle\" font-size=\"14px\" font-family=\"Arial\">3: </text><rect x=\"10.0\" y=\"205.0\" width=\"51.124453125\" height=\"40\" stroke=\"black\" fill=\"white\" stroke-width=\"0\" /><text x=\"35.5622265625\" y=\"225.0\" dominant-baseline=\"middle\" text-anchor=\"middle\" font-size=\"14px\" font-family=\"Arial\">color: </text><rect x=\"10.0\" y=\"255.0\" width=\"51.124453125\" height=\"40\" stroke=\"black\" fill=\"white\" stroke-width=\"0\" /><text x=\"35.5622265625\" y=\"275.0\" dominant-baseline=\"middle\" text-anchor=\"middle\" font-size=\"14px\" font-family=\"Arial\">output: </text><rect x=\"81.124453125\" y=\"5.0\" width=\"61.748046875\" height=\"40\" stroke=\"black\" fill=\"white\" stroke-width=\"1\" /><text x=\"111.9984765625\" y=\"25.0\" dominant-baseline=\"middle\" text-anchor=\"middle\" font-size=\"18px\" font-family=\"Arial\">Z</text><rect x=\"81.124453125\" y=\"205.0\" width=\"61.748046875\" height=\"40\" stroke=\"black\" fill=\"white\" stroke-width=\"1\" /><text x=\"111.9984765625\" y=\"225.0\" dominant-baseline=\"middle\" text-anchor=\"middle\" font-size=\"14px\" font-family=\"Arial\">X^zxx_0</text><rect x=\"81.124453125\" y=\"255.0\" width=\"61.748046875\" height=\"40\" stroke=\"black\" fill=\"white\" stroke-width=\"1\" /><text x=\"111.9984765625\" y=\"275.0\" dominant-baseline=\"middle\" text-anchor=\"middle\" font-size=\"18px\" font-family=\"Arial\">X</text><rect x=\"162.8725\" y=\"55.0\" width=\"59.847109375\" height=\"40\" stroke=\"black\" fill=\"white\" stroke-width=\"1\" /><text x=\"192.7960546875\" y=\"75.0\" dominant-baseline=\"middle\" text-anchor=\"middle\" font-size=\"18px\" font-family=\"Arial\">Z</text><rect x=\"162.8725\" y=\"205.0\" width=\"59.847109375\" height=\"40\" stroke=\"black\" fill=\"white\" stroke-width=\"1\" /><text x=\"192.7960546875\" y=\"225.0\" dominant-baseline=\"middle\" text-anchor=\"middle\" font-size=\"14px\" font-family=\"Arial\">X^zxx_1</text><rect x=\"162.8725\" y=\"255.0\" width=\"59.847109375\" height=\"40\" stroke=\"black\" fill=\"white\" stroke-width=\"1\" /><text x=\"192.7960546875\" y=\"275.0\" dominant-baseline=\"middle\" text-anchor=\"middle\" font-size=\"18px\" font-family=\"Arial\">X</text><rect x=\"242.71960937500003\" y=\"105.0\" width=\"61.680234375\" height=\"40\" stroke=\"black\" fill=\"white\" stroke-width=\"1\" /><text x=\"273.55972656250003\" y=\"125.0\" dominant-baseline=\"middle\" text-anchor=\"middle\" font-size=\"18px\" font-family=\"Arial\">Z</text><rect x=\"242.71960937500003\" y=\"205.0\" width=\"61.680234375\" height=\"40\" stroke=\"black\" fill=\"white\" stroke-width=\"1\" /><text x=\"273.55972656250003\" y=\"225.0\" dominant-baseline=\"middle\" text-anchor=\"middle\" font-size=\"14px\" font-family=\"Arial\">X^zxx_2</text><rect x=\"242.71960937500003\" y=\"255.0\" width=\"61.680234375\" height=\"40\" stroke=\"black\" fill=\"white\" stroke-width=\"1\" /><text x=\"273.55972656250003\" y=\"275.0\" dominant-baseline=\"middle\" text-anchor=\"middle\" font-size=\"18px\" font-family=\"Arial\">X</text><rect x=\"324.39984375\" y=\"155.0\" width=\"61.783046875\" height=\"40\" stroke=\"black\" fill=\"white\" stroke-width=\"1\" /><text x=\"355.2913671875\" y=\"175.0\" dominant-baseline=\"middle\" text-anchor=\"middle\" font-size=\"18px\" font-family=\"Arial\">Z</text><rect x=\"324.39984375\" y=\"205.0\" width=\"61.783046875\" height=\"40\" stroke=\"black\" fill=\"white\" stroke-width=\"1\" /><text x=\"355.2913671875\" y=\"225.0\" dominant-baseline=\"middle\" text-anchor=\"middle\" font-size=\"14px\" font-family=\"Arial\">X^zxx_3</text><rect x=\"324.39984375\" y=\"255.0\" width=\"61.783046875\" height=\"40\" stroke=\"black\" fill=\"white\" stroke-width=\"1\" /><text x=\"355.2913671875\" y=\"275.0\" dominant-baseline=\"middle\" text-anchor=\"middle\" font-size=\"18px\" font-family=\"Arial\">X</text></svg>"
     },
     "execution_count": 2,
     "metadata": {},
     "output_type": "execute_result"
    }
   ],
   "source": [
    "from gates import CircuitLayerBuilder\n",
    "from config import N_QUBITS\n",
    "import cirq\n",
    "%matplotlib inline\n",
    "import matplotlib.pyplot as plt\n",
    "from cirq.contrib.svg import SVGCircuit\n",
    "demo_builder = CircuitLayerBuilder(pixel_qubits = [cirq.LineQubit(i) for i in range(N_QUBITS)],\n",
    "                                   color_qubit=cirq.NamedQubit('color'),\n",
    "                                   output_qubit=cirq.NamedQubit('output'))\n",
    "\n",
    "circuit = cirq.Circuit()\n",
    "demo_builder.add_3q_layer(circuit, gate_name='ZXX')\n",
    "SVGCircuit(circuit)"
   ],
   "metadata": {
    "collapsed": false,
    "pycharm": {
     "name": "#%%\n"
    }
   }
  },
  {
   "cell_type": "code",
   "execution_count": null,
   "outputs": [],
   "source": [],
   "metadata": {
    "collapsed": false,
    "pycharm": {
     "name": "#%%\n"
    }
   }
  }
 ],
 "metadata": {
  "kernelspec": {
   "display_name": "Python 3",
   "language": "python",
   "name": "python3"
  },
  "language_info": {
   "codemirror_mode": {
    "name": "ipython",
    "version": 3
   },
   "file_extension": ".py",
   "mimetype": "text/x-python",
   "name": "python",
   "nbconvert_exporter": "python",
   "pygments_lexer": "ipython3",
   "version": "3.7.10"
  }
 },
 "nbformat": 4,
 "nbformat_minor": 1
}